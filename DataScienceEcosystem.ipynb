{
 "cells": [
  {
   "cell_type": "markdown",
   "id": "78e50548-4fe9-4b5c-9d7c-9ec219c2f73c",
   "metadata": {},
   "source": [
    "# Data Science Tools and Ecosystem"
   ]
  },
  {
   "cell_type": "markdown",
   "id": "76c16644-3a76-4f0f-b7af-7649efe45045",
   "metadata": {},
   "source": [
    "In this notebook, Data Science Tools and Ecosystem are summarized."
   ]
  },
  {
   "cell_type": "markdown",
   "id": "30c708e3-5b95-4b54-9cbb-323359c9e3d4",
   "metadata": {},
   "source": [
    "__Objectives:__ \n",
    "- List some popular languages for Data Science\n",
    "- List some popular Data Science libraries\n",
    "- List some popular Data Science Tools\n",
    "- Present the practical use of Markdown and Code cells on Jupyter Notebooks"
   ]
  },
  {
   "cell_type": "markdown",
   "id": "daf9c928-92ae-42b9-888a-c45b80ad844d",
   "metadata": {
    "tags": []
   },
   "source": [
    "Some of the popular languages that Data Scientists use are:\n",
    "\n",
    "1. Julia\n",
    "2. Python\n",
    "3. R"
   ]
  },
  {
   "cell_type": "markdown",
   "id": "90ebf747-ea15-4103-a887-e1280187e7aa",
   "metadata": {
    "tags": []
   },
   "source": [
    "Some of the commonly used libraries used by Data Scientists include:\n",
    "    \n",
    "1. Pandas\n",
    "2. Numpy\n",
    "3. Matplotlib"
   ]
  },
  {
   "cell_type": "markdown",
   "id": "b7cb59e6-072e-47ce-9f0e-e5324304aabb",
   "metadata": {},
   "source": [
    "|Data Science Tools|\n",
    "--------------------\n",
    "|Jupyter Notebook|\n",
    "|KNIME|\n",
    "|RStudio|"
   ]
  },
  {
   "cell_type": "markdown",
   "id": "35725fc1-82b2-4fd5-a1f2-8c8df5a761bf",
   "metadata": {},
   "source": [
    "### Below are a few examples of evaluating arithmetic expressions in Python"
   ]
  },
  {
   "cell_type": "code",
   "execution_count": 3,
   "id": "fcf2614c-f373-42dd-bdbf-b4ac8c9c4220",
   "metadata": {
    "tags": []
   },
   "outputs": [
    {
     "data": {
      "text/plain": [
       "17"
      ]
     },
     "execution_count": 3,
     "metadata": {},
     "output_type": "execute_result"
    }
   ],
   "source": [
    "#This a simple arithmetic expression to mutiply then add integers\n",
    "(3*4)+5"
   ]
  },
  {
   "cell_type": "code",
   "execution_count": 4,
   "id": "c946c347-d915-4a3a-8237-684f223c86db",
   "metadata": {
    "tags": []
   },
   "outputs": [
    {
     "data": {
      "text/plain": [
       "3.3333333333333335"
      ]
     },
     "execution_count": 4,
     "metadata": {},
     "output_type": "execute_result"
    }
   ],
   "source": [
    "#This will convert 200 minutes to hours by diving by 60\n",
    "200/60"
   ]
  },
  {
   "cell_type": "markdown",
   "id": "fdd197f3-0b46-4761-8ce9-c200de268dd7",
   "metadata": {},
   "source": [
    "## Author\n",
    "Jeanco Volfe"
   ]
  },
  {
   "cell_type": "code",
   "execution_count": null,
   "id": "eb846579-e72b-427c-b034-caae91772a56",
   "metadata": {},
   "outputs": [],
   "source": []
  }
 ],
 "metadata": {
  "kernelspec": {
   "display_name": "Python",
   "language": "python",
   "name": "conda-env-python-py"
  },
  "language_info": {
   "codemirror_mode": {
    "name": "ipython",
    "version": 3
   },
   "file_extension": ".py",
   "mimetype": "text/x-python",
   "name": "python",
   "nbconvert_exporter": "python",
   "pygments_lexer": "ipython3",
   "version": "3.7.12"
  }
 },
 "nbformat": 4,
 "nbformat_minor": 5
}
